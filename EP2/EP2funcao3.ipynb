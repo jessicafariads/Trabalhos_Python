{
 "cells": [
  {
   "cell_type": "markdown",
   "metadata": {},
   "source": [
    "# Exercício Programa 2"
   ]
  },
  {
   "cell_type": "markdown",
   "metadata": {},
   "source": [
    "Você deve preencher todas as células desse nootebook com os códigos solicitados. \n",
    "\n",
    "Minha sugestão é preencher depois que seu programa estiver completo e funcionado. Assim, é só copiar os trechos de código do arquivo .py e colar nas células."
   ]
  },
  {
   "cell_type": "markdown",
   "metadata": {},
   "source": [
    "## Modulos necessários"
   ]
  },
  {
   "cell_type": "code",
   "execution_count": 9,
   "metadata": {},
   "outputs": [],
   "source": [
    "import matplotlib.pyplot as plt\n",
    "import math\n",
    "a=1\n",
    "b=3"
   ]
  },
  {
   "cell_type": "markdown",
   "metadata": {},
   "source": [
    "## Função escolhida"
   ]
  },
  {
   "cell_type": "markdown",
   "metadata": {},
   "source": [
    "$f(x) = x³-e^x$"
   ]
  },
  {
   "cell_type": "code",
   "execution_count": 19,
   "metadata": {},
   "outputs": [],
   "source": [
    "funcao1=lambda x:(x**3)-(math.e**(x))"
   ]
  },
  {
   "cell_type": "markdown",
   "metadata": {},
   "source": [
    "$f'(x) = 3.x²-e^x$"
   ]
  },
  {
   "cell_type": "code",
   "execution_count": 17,
   "metadata": {},
   "outputs": [],
   "source": [
    "funcao2=lambda x:3*(x**2)-(math.e**(x))"
   ]
  },
  {
   "cell_type": "code",
   "execution_count": 20,
   "metadata": {},
   "outputs": [
    {
     "data": {
      "image/png": "[encoded data removed]",
      "text/plain": [
       "<Figure size 432x288 with 1 Axes>"
      ]
     },
     "metadata": {
      "needs_background": "light"
     },
     "output_type": "display_data"
    }
   ],
   "source": [
    "# Gráfico da função escolhida (essa parte não precisa estar no seu arquivo .py, mas o gráfico deve estar no relatório)\n",
    "# Sugestão: Você pode gerar os valores de x e y usando as funções apresentadas na Aula Prática 8\n",
    "    \n",
    "x = [-4, -3.9, -3.8, -3.7, -3.6, -3.5, -3.4, -3.3, -3.2, -3.1, -3.0, -2.9, -2.8, -2.7, -2.6, -2.5, -2.4, -2.3, -2.2, -2.1, -2.0, -1.9, -1.8, -1.7, -1.6, -1.5, -1.4, -1.3, -1.2, -1.1, -1.0, -0.9, -0.8, -0.7, -0.6, -0.5, -0.4, -0.3, -0.2, -0.1, 0.0, 0.1, 0.2, 0.3, 0.4, 0.5, 0.6, 0.7, 0.8, 0.9, 1.0, 1.1, 1.2, 1.3, 1.4, 1.5, 1.6, 1.7, 1.8, 1.9, 2.0, 2.1, 2.2, 2.3, 2.4, 2.5, 2.6, 2.7, 2.8, 2.9, 3.0, 3.1, 3.2, 3.3, 3.4, 3.5, 3.6, 3.7, 3.8, 3.9, 4.0]\n",
    "y = list(map(funcao1,x))\n",
    "\n",
    "fig, ax = plt.subplots()\n",
    "ax.plot(x, y)\n",
    "\n",
    "ax.set(xlabel='x', ylabel='f(x)', title=r'$f(x) = x³-e^x$')\n",
    "ax.grid()\n",
    "\n",
    "plt.show()"
   ]
  },
  {
   "cell_type": "markdown",
   "metadata": {},
   "source": [
    "## Implementação do Método de Bisseção"
   ]
  },
  {
   "cell_type": "code",
   "execution_count": 21,
   "metadata": {},
   "outputs": [
    {
     "name": "stdout",
     "output_type": "stream",
     "text": [
      " 1 [2.000000000000000] [1.000000000000000]\n",
      " 2 [1.500000000000000] [0.500000000000000]\n",
      " 3 [1.750000000000000] [0.250000000000000]\n",
      " 4 [1.875000000000000] [0.125000000000000]\n",
      " 5 [1.812500000000000] [0.062500000000000]\n",
      " 6 [1.843750000000000] [0.031250000000000]\n",
      " 7 [1.859375000000000] [0.015625000000000]\n",
      " 8 [1.851562500000000] [0.007812500000000]\n",
      " 9 [1.855468750000000] [0.003906250000000]\n",
      "10 [1.857421875000000] [0.001953125000000]\n",
      "11 [1.856445312500000] [0.000976562500000]\n",
      "12 [1.856933593750000] [0.000488281250000]\n",
      "13 [1.857177734375000] [0.000244140625000]\n",
      "14 [1.857299804687500] [0.000122070312500]\n",
      "15 [1.857238769531250] [0.000061035156250]\n",
      "16 [1.857208251953125] [0.000030517578125]\n",
      "17 [1.857192993164062] [0.000015258789062]\n",
      "18 [1.857185363769531] [0.000007629394531]\n",
      "19 [1.857181549072266] [0.000003814697266]\n",
      "20 [1.857183456420898] [0.000001907348633]\n",
      "21 [1.857184410095215] [0.000000953674316]\n",
      "22 [1.857183933258057] [0.000000476837158]\n",
      "23 [1.857183694839478] [0.000000238418579]\n",
      "24 [1.857183814048767] [0.000000119209290]\n",
      "25 [1.857183873653412] [0.000000059604645]\n",
      "26 [1.857183843851089] [0.000000029802322]\n",
      "27 [1.857183858752251] [0.000000014901161]\n",
      "28 [1.857183866202831] [0.000000007450581]\n",
      "29 [1.857183862477541] [0.000000003725290]\n",
      "30 [1.857183860614896] [0.000000001862645]\n",
      "31 [1.857183859683573] [0.000000000931323]\n",
      "32 [1.857183860149235] [0.000000000465661]\n",
      "33 [1.857183860382065] [0.000000000232831]\n",
      "34 [1.857183860265650] [0.000000000116415]\n",
      "35 [1.857183860207442] [0.000000000058208]\n",
      "36 [1.857183860236546] [0.000000000029104]\n",
      "37 [1.857183860221994] [0.000000000014552]\n",
      "38 [1.857183860214718] [0.000000000007276]\n",
      "39 [1.857183860211080] [0.000000000003638]\n",
      "40 [1.857183860209261] [0.000000000001819]\n",
      "41 [1.857183860208352] [0.000000000000909]\n",
      "42 [1.857183860207897] [0.000000000000455]\n",
      "43 [1.857183860207670] [0.000000000000227]\n",
      "44 [1.857183860207783] [0.000000000000114]\n",
      "45 [1.857183860207840] [0.000000000000057]\n",
      "46 [1.857183860207812] [0.000000000000028]\n",
      "47 [1.857183860207826] [0.000000000000014]\n",
      "48 [1.857183860207833] [0.000000000000007]\n",
      "49 [1.857183860207837] [0.000000000000004]\n",
      "50 [1.857183860207835] [0.000000000000002]\n"
     ]
    }
   ],
   "source": [
    "def bissecao(f, a,b,epsilon=10**-15,maxIt = 50,i=1,L=[],Li=[],Le=[]):\n",
    "    x1=(a+b)/2\n",
    "    erro=abs(a-b)/2\n",
    "    if f(x1)==0 or erro<epsilon or i>maxIt:\n",
    "        return Li,L,Le\n",
    "    elif f(a)*f(x1)<0:\n",
    "        print(\"{0:2d} [{1:.15f}] [{2:.15f}]\".format(i, x1, erro))\n",
    "        return bissecao(f, a,x1,epsilon, maxIt,i+1,L+[x1],Li+[i],Le+[erro])\n",
    "    else:\n",
    "        print(\"{0:2d} [{1:.15f}] [{2:.15f}]\".format(i, x1, erro))\n",
    "        return bissecao(f, x1,b,epsilon, maxIt,i+1,L+[x1],Li+[i],Le+[erro])\n",
    "    \n",
    "x1,y1,e=bissecao(funcao1,a,b)\n",
    "    "
   ]
  },
  {
   "cell_type": "markdown",
   "metadata": {},
   "source": [
    "## Implementação do Método de Newton-Raphson"
   ]
  },
  {
   "cell_type": "code",
   "execution_count": 24,
   "metadata": {},
   "outputs": [
    {
     "name": "stdout",
     "output_type": "stream",
     "text": [
      " 1  [2.000000000000000] [0.500000000000000]\n",
      " 2  [1.867501337214781] [0.070949701692225]\n",
      " 3  [1.857247007167282] [0.005521252697098]\n",
      " 4  [1.857183862603892] [0.000034000168029]\n",
      " 5  [1.857183860207835] [0.000000001290156]\n",
      " 6  [1.857183860207835] [0.000000000000000]\n"
     ]
    }
   ],
   "source": [
    "def raphson(f1,f2,x1,i=1,epsilon=10**-15,maxIt=50,L=[],Li=[],Le=[]):\n",
    "    xi=x1-(f1(x1)/f2(x1))\n",
    "    erro=abs((xi-x1)/xi)\n",
    "    print(\"{0:2d}  [{1:.15f}] [{2:.15f}]\".format(i,xi,erro))\n",
    "    if f1(x1)==0 or f2(x1)==0 or xi==0 or erro<epsilon or i>maxIt:\n",
    "        return Li,L,Le\n",
    "    else:\n",
    "        return raphson(f1,f2,xi,i+1,epsilon,maxIt,L+[xi],Li+[i],Le+[erro])\n",
    "    \n",
    "x2,y2,f=raphson(funcao1,funcao2,b)"
   ]
  },
  {
   "cell_type": "markdown",
   "metadata": {},
   "source": [
    "## Método da Secante"
   ]
  },
  {
   "cell_type": "code",
   "execution_count": 25,
   "metadata": {},
   "outputs": [
    {
     "name": "stdout",
     "output_type": "stream",
     "text": [
      " 1  [1.398084698972123]  [1.145792742174784]\n",
      " 2  [1.654006301728134]  [0.154728311789755]\n",
      " 3  [1.948092827577990]  [0.150961248707786]\n",
      " 4  [1.845281083810252]  [0.055716034088122]\n",
      " 5  [1.856564901556966]  [0.006077793314552]\n",
      " 6  [1.857188322581529]  [0.000335680026082]\n",
      " 7  [1.857183858547399]  [0.000002403657619]\n",
      " 8  [1.857183860207831]  [0.000000000894059]\n",
      " 9  [1.857183860207835]  [0.000000000000002]\n",
      "10  [1.857183860207835]  [0.000000000000000]\n"
     ]
    }
   ],
   "source": [
    "def secante(f1,x1,x2,i=1,epsilon=10**-15,maxIt=50,L=[],Li=[],Le=[]):\n",
    "    xi = x2 - f1(x2)*(x2 - x1)/(f1(x2) - f1(x1))\n",
    "    erro=abs((xi-x2)/xi)\n",
    "    print(\"{0:2d}  [{1:.15f}]  [{2:.15f}]\".format(i, xi, erro))\n",
    "    if f1(xi)==0 or erro<epsilon or i>maxIt:\n",
    "        return Li,L,Le\n",
    "    else:\n",
    "        return secante(f1,x2,xi,i+1,epsilon, maxIt,L+[xi],Li+[i],Le+[erro])\n",
    "    \n",
    "x3,y3,g=secante(funcao1,a,b)"
   ]
  },
  {
   "cell_type": "markdown",
   "metadata": {},
   "source": [
    "## Outras funções implementadas"
   ]
  },
  {
   "cell_type": "code",
   "execution_count": null,
   "metadata": {},
   "outputs": [],
   "source": [
    "# Se você implementou qualquer outra função, coloque-as aqui."
   ]
  },
  {
   "cell_type": "markdown",
   "metadata": {},
   "source": [
    "## Função `main()`"
   ]
  },
  {
   "cell_type": "code",
   "execution_count": 28,
   "metadata": {},
   "outputs": [
    {
     "name": "stdout",
     "output_type": "stream",
     "text": [
      " 1 [2.000000000000000] [1.000000000000000]\n",
      " 2 [1.500000000000000] [0.500000000000000]\n",
      " 3 [1.750000000000000] [0.250000000000000]\n",
      " 4 [1.875000000000000] [0.125000000000000]\n",
      " 5 [1.812500000000000] [0.062500000000000]\n",
      " 6 [1.843750000000000] [0.031250000000000]\n",
      " 7 [1.859375000000000] [0.015625000000000]\n",
      " 8 [1.851562500000000] [0.007812500000000]\n",
      " 9 [1.855468750000000] [0.003906250000000]\n",
      "10 [1.857421875000000] [0.001953125000000]\n",
      "11 [1.856445312500000] [0.000976562500000]\n",
      "12 [1.856933593750000] [0.000488281250000]\n",
      "13 [1.857177734375000] [0.000244140625000]\n",
      "14 [1.857299804687500] [0.000122070312500]\n",
      "15 [1.857238769531250] [0.000061035156250]\n",
      "16 [1.857208251953125] [0.000030517578125]\n",
      "17 [1.857192993164062] [0.000015258789062]\n",
      "18 [1.857185363769531] [0.000007629394531]\n",
      "19 [1.857181549072266] [0.000003814697266]\n",
      "20 [1.857183456420898] [0.000001907348633]\n",
      "21 [1.857184410095215] [0.000000953674316]\n",
      "22 [1.857183933258057] [0.000000476837158]\n",
      "23 [1.857183694839478] [0.000000238418579]\n",
      "24 [1.857183814048767] [0.000000119209290]\n",
      "25 [1.857183873653412] [0.000000059604645]\n",
      "26 [1.857183843851089] [0.000000029802322]\n",
      "27 [1.857183858752251] [0.000000014901161]\n",
      "28 [1.857183866202831] [0.000000007450581]\n",
      "29 [1.857183862477541] [0.000000003725290]\n",
      "30 [1.857183860614896] [0.000000001862645]\n",
      "31 [1.857183859683573] [0.000000000931323]\n",
      "32 [1.857183860149235] [0.000000000465661]\n",
      "33 [1.857183860382065] [0.000000000232831]\n",
      "34 [1.857183860265650] [0.000000000116415]\n",
      "35 [1.857183860207442] [0.000000000058208]\n",
      "36 [1.857183860236546] [0.000000000029104]\n",
      "37 [1.857183860221994] [0.000000000014552]\n",
      "38 [1.857183860214718] [0.000000000007276]\n",
      "39 [1.857183860211080] [0.000000000003638]\n",
      "40 [1.857183860209261] [0.000000000001819]\n",
      "41 [1.857183860208352] [0.000000000000909]\n",
      "42 [1.857183860207897] [0.000000000000455]\n",
      "43 [1.857183860207670] [0.000000000000227]\n",
      "44 [1.857183860207783] [0.000000000000114]\n",
      "45 [1.857183860207840] [0.000000000000057]\n",
      "46 [1.857183860207812] [0.000000000000028]\n",
      "47 [1.857183860207826] [0.000000000000014]\n",
      "48 [1.857183860207833] [0.000000000000007]\n",
      "49 [1.857183860207837] [0.000000000000004]\n",
      "50 [1.857183860207835] [0.000000000000002]\n",
      " 1  [2.000000000000000] [0.500000000000000]\n",
      " 2  [1.867501337214781] [0.070949701692225]\n",
      " 3  [1.857247007167282] [0.005521252697098]\n",
      " 4  [1.857183862603892] [0.000034000168029]\n",
      " 5  [1.857183860207835] [0.000000001290156]\n",
      " 6  [1.857183860207835] [0.000000000000000]\n",
      " 1  [1.398084698972123]  [1.145792742174784]\n",
      " 2  [1.654006301728134]  [0.154728311789755]\n",
      " 3  [1.948092827577990]  [0.150961248707786]\n",
      " 4  [1.845281083810252]  [0.055716034088122]\n",
      " 5  [1.856564901556966]  [0.006077793314552]\n",
      " 6  [1.857188322581529]  [0.000335680026082]\n",
      " 7  [1.857183858547399]  [0.000002403657619]\n",
      " 8  [1.857183860207831]  [0.000000000894059]\n",
      " 9  [1.857183860207835]  [0.000000000000002]\n",
      "10  [1.857183860207835]  [0.000000000000000]\n"
     ]
    },
    {
     "data": {
      "image/png": "[encoded data removed]",
      "text/plain": [
       "<Figure size 720x360 with 1 Axes>"
      ]
     },
     "metadata": {
      "needs_background": "light"
     },
     "output_type": "display_data"
    },
    {
     "data": {
      "image/png": "[encoded data removed]",
      "text/plain": [
       "<Figure size 720x360 with 1 Axes>"
      ]
     },
     "metadata": {
      "needs_background": "light"
     },
     "output_type": "display_data"
    }
   ],
   "source": [
    "def main():\n",
    "    #Método da Bisseção\n",
    "    x1,y1,e=bissecao(funcao1,a,b)\n",
    "    \n",
    "    #Método de Newton-Raphson\n",
    "    x2,y2,f=raphson(funcao1,funcao2,b)\n",
    "    \n",
    "    #Método da Secante\n",
    "    x3,y3,g=secante(funcao1,a,b)\n",
    "    \n",
    "    ###################################### Gráfico 1 ######################################\n",
    "    fig = plt.figure(figsize=(10,5))\n",
    "    ax = fig.add_subplot(111)\n",
    "    ax.plot(x1, y1, label='Método da Bisseção',       lw=2, markersize=8, color='#9467BD', marker='D', markeredgecolor='#9467BD', markerfacecolor='#C9B3DE')\n",
    "    ax.plot(x2, y2, label='Método de Newton-Raphson', lw=2, markersize=8, color='#1F77B4', marker='o', markeredgecolor='#1F77B4', markerfacecolor='#8FBBD9')\n",
    "    ax.plot(x3, y3, label='Método da Secante',        lw=2, markersize=8, color='#D62728', marker='s', markeredgecolor='#D62728', markerfacecolor='#EA9393')\n",
    "    \n",
    "    #Legenda\n",
    "    handles, labels = ax.get_legend_handles_labels()\n",
    "    leg = ax.legend(handles, labels, bbox_to_anchor=(1.01, 1), loc=2, borderaxespad=0.)\n",
    "    \n",
    "    ax.set(xlabel='Iteração', ylabel='$f(x)$', title=r'Aproximação da raiz de $ f(x) = x³-e^x$ por cada método')\n",
    "    ax.grid()\n",
    "    \n",
    "    #Exibe todos os valores das iteração.\n",
    "    plt.xticks(x1)  #Troque x1 pelo método que tiver maior número de iterações. Talvez comentar essa linha fique melhor para o seu gráfico.\n",
    "    \n",
    "    plt.savefig('ep2_grafico1.pdf',bbox_inches='tight') #salva o gráfico\n",
    "    plt.show()\n",
    "    #####################################################################################\n",
    "    \n",
    "    \n",
    "    \n",
    "    ###################################### Gráfico 2######################################\n",
    "    x = [1, 2, 3] #3 Metodos\n",
    "    y = [50, 6, 10] #alguma dado de cada método\n",
    "\n",
    "    fig, ax = plt.subplots(figsize=(10, 5))\n",
    "\n",
    "    ax.bar(x, y, color='#1F77B4')\n",
    "\n",
    "    # ax.set_xlabel('Método', fontsize = 12)\n",
    "    ax.set_ylabel('y', fontsize = 12)\n",
    "    ax.set_title('Quantidade de iterações', fontsize = 12)\n",
    "    ax.set_axisbelow(True) \n",
    "    ax.yaxis.grid(True)\n",
    "\n",
    "    ax.set_xticks(x)\n",
    "    ax.set_xticklabels(('Método da Bisseção', 'Método de Newton', 'Método da Secante'))\n",
    "\n",
    "    plt.ylim(0, 60) #valor limite do eixo y\n",
    "\n",
    "    plt.savefig('ep2_grafico3.pdf',bbox_inches='tight') #salva o gráfico\n",
    "    plt.show()\n",
    "    #####################################################################################\n",
    "\n",
    "\n",
    "# Executa a função principal do projeto\n",
    "main()"
   ]
  },
  {
   "cell_type": "code",
   "execution_count": null,
   "metadata": {},
   "outputs": [],
   "source": []
  }
 ],
 "metadata": {
  "kernelspec": {
   "display_name": "Python 3",
   "language": "python",
   "name": "python3"
  },
  "language_info": {
   "codemirror_mode": {
    "name": "ipython",
    "version": 3
   },
   "file_extension": ".py",
   "mimetype": "text/x-python",
   "name": "python",
   "nbconvert_exporter": "python",
   "pygments_lexer": "ipython3",
   "version": "3.7.0"
  }
 },
 "nbformat": 4,
 "nbformat_minor": 2
}
